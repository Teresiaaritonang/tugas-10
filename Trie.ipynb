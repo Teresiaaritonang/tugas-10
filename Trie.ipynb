{
  "nbformat": 4,
  "nbformat_minor": 0,
  "metadata": {
    "colab": {
      "provenance": []
    },
    "kernelspec": {
      "name": "python3",
      "display_name": "Python 3"
    },
    "language_info": {
      "name": "python"
    }
  },
  "cells": [
    {
      "cell_type": "code",
      "execution_count": 1,
      "metadata": {
        "colab": {
          "base_uri": "https://localhost:8080/"
        },
        "id": "ctGUGjMApEIK",
        "outputId": "5e004fcc-cc96-48db-8d27-ec69363a740c"
      },
      "outputs": [
        {
          "output_type": "stream",
          "name": "stdout",
          "text": [
            "Successfully inserted\n",
            "Successfully inserted\n",
            "False\n"
          ]
        }
      ],
      "source": [
        "class TrieNode:\n",
        "    def __init__(self):\n",
        "        self.children = {}\n",
        "        self.endOfString = False\n",
        "\n",
        "class Trie:\n",
        "    def __init__(self):\n",
        "        self.root = TrieNode()\n",
        "\n",
        "    def insertString(self, word):\n",
        "        current = self.root\n",
        "        for i in word:\n",
        "            ch = i\n",
        "            node = current.children.get(ch)\n",
        "            if node == None:\n",
        "                node = TrieNode()\n",
        "                current.children.update({ch:node})\n",
        "            current = node\n",
        "        current.endOfString = True\n",
        "        print(\"Successfully inserted\")\n",
        "\n",
        "    def searchString(self, word):\n",
        "        currentNode = self.root\n",
        "        for i in word:\n",
        "            node = currentNode.children.get(i)\n",
        "            if node == None:\n",
        "                return False\n",
        "            currentNode = node\n",
        "\n",
        "        if currentNode.endOfString == True:\n",
        "            return True\n",
        "        else:\n",
        "            return False\n",
        "\n",
        "\n",
        "def deleteString(root, word, index):\n",
        "    ch = word[index]\n",
        "    currentNode = root.children.get(ch)\n",
        "    canThisNodeBeDeleted = False\n",
        "\n",
        "    if len(currentNode.children) > 1:\n",
        "        deleteString(currentNode, word, index+1)\n",
        "        return False\n",
        "\n",
        "    if index == len(word) - 1:\n",
        "        if len(currentNode.children) >= 1:\n",
        "            currentNode.endOfString = False\n",
        "            return False\n",
        "        else:\n",
        "            root.children.pop(ch)\n",
        "            return True\n",
        "\n",
        "    if currentNode.endOfString == True:\n",
        "        deleteString(currentNode, word, index+1)\n",
        "        return False\n",
        "\n",
        "    canThisNodeBeDeleted = deleteString(currentNode, word, index+1)\n",
        "    if canThisNodeBeDeleted == True:\n",
        "        root.children.pop(ch)\n",
        "        return True\n",
        "    else:\n",
        "        return False\n",
        "\n",
        "\n",
        "\n",
        "\n",
        "newTrie = Trie()\n",
        "newTrie.insertString(\"App\")\n",
        "newTrie.insertString(\"Appl\")\n",
        "deleteString(newTrie.root, \"App\", 0)\n",
        "print(newTrie.searchString(\"App\"))"
      ]
    }
  ]
}